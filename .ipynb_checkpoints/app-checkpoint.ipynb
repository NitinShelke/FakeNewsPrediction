{
 "cells": [
  {
   "cell_type": "code",
   "execution_count": 1,
   "id": "located-control",
   "metadata": {},
   "outputs": [],
   "source": [
    "from com_in_nitin_train.trainAPI import train\n",
    "from com_in_nitin_predict.predictAPI import predict\n",
    "import pandas as pd"
   ]
  },
  {
   "cell_type": "code",
   "execution_count": 2,
   "id": "vanilla-change",
   "metadata": {},
   "outputs": [
    {
     "data": {
      "text/plain": [
       "'model trained and saved successfuly'"
      ]
     },
     "execution_count": 2,
     "metadata": {},
     "output_type": "execute_result"
    }
   ],
   "source": [
    "train()"
   ]
  },
  {
   "cell_type": "code",
   "execution_count": 3,
   "id": "electoral-stack",
   "metadata": {},
   "outputs": [],
   "source": [
    "data=pd.read_csv(\"data/train/news.csv\")"
   ]
  },
  {
   "cell_type": "code",
   "execution_count": 4,
   "id": "informative-italic",
   "metadata": {},
   "outputs": [],
   "source": [
    "news=data['title'][50]"
   ]
  },
  {
   "cell_type": "code",
   "execution_count": 5,
   "id": "respected-finger",
   "metadata": {},
   "outputs": [
    {
     "data": {
      "text/plain": [
       "'American politics has reached peak polarization'"
      ]
     },
     "execution_count": 5,
     "metadata": {},
     "output_type": "execute_result"
    }
   ],
   "source": [
    "news"
   ]
  },
  {
   "cell_type": "code",
   "execution_count": 7,
   "id": "desperate-butter",
   "metadata": {},
   "outputs": [
    {
     "name": "stdout",
     "output_type": "stream",
     "text": [
      "Good, This is a real news !\n"
     ]
    }
   ],
   "source": [
    "if predict(\"Clinton's Blitzkrieg Campaign: the Savage Politics of the Oligarchs\")[0]=='REAL':\n",
    "    print(\"Good, This is a real news !\")\n",
    "else:\n",
    "    print(\"ALERT: This is a fake news !\")"
   ]
  },
  {
   "cell_type": "code",
   "execution_count": null,
   "id": "organized-trauma",
   "metadata": {},
   "outputs": [],
   "source": []
  }
 ],
 "metadata": {
  "kernelspec": {
   "display_name": "Python 3",
   "language": "python",
   "name": "python3"
  },
  "language_info": {
   "codemirror_mode": {
    "name": "ipython",
    "version": 3
   },
   "file_extension": ".py",
   "mimetype": "text/x-python",
   "name": "python",
   "nbconvert_exporter": "python",
   "pygments_lexer": "ipython3",
   "version": "3.8.5"
  }
 },
 "nbformat": 4,
 "nbformat_minor": 5
}
